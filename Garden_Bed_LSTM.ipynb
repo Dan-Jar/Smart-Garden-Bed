{
  "nbformat": 4,
  "nbformat_minor": 0,
  "metadata": {
    "colab": {
      "provenance": [],
      "authorship_tag": "ABX9TyMbU6oIT7JCKN31F1RZ4gfz",
      "include_colab_link": true
    },
    "kernelspec": {
      "name": "python3",
      "display_name": "Python 3"
    },
    "language_info": {
      "name": "python"
    }
  },
  "cells": [
    {
      "cell_type": "markdown",
      "metadata": {
        "id": "view-in-github",
        "colab_type": "text"
      },
      "source": [
        "<a href=\"https://colab.research.google.com/github/Dan-Jar/Smart-Garden-Bed/blob/main/Garden_Bed_LSTM.ipynb\" target=\"_parent\"><img src=\"https://colab.research.google.com/assets/colab-badge.svg\" alt=\"Open In Colab\"/></a>"
      ]
    },
    {
      "cell_type": "markdown",
      "source": [
        "## Get the libraries to set up our recurrance neural network\n"
      ],
      "metadata": {
        "id": "Gzbg6OMxTjvD"
      }
    },
    {
      "cell_type": "code",
      "source": [
        "import tensorflow as tf\n",
        "import sys"
      ],
      "metadata": {
        "id": "UhOOo6rgXpSN"
      },
      "execution_count": 6,
      "outputs": []
    },
    {
      "cell_type": "markdown",
      "source": [
        "### This script requires TensorFlow 2 and Python 3.\n"
      ],
      "metadata": {
        "id": "yPlFPXWZZozc"
      }
    },
    {
      "cell_type": "code",
      "source": [
        "if sys.version_info.major < 3:\n",
        "    raise Exception((f\"The script is developed and tested for Python 3. \"\n",
        "                     f\"Current version: {sys.version_info.major}\"))\n",
        "\n",
        "if tf.__version__.split('.')[0] != '2':\n",
        "    raise Exception((f\"The script is developed and tested for tensorflow 2. \"\n",
        "                     f\"Current version: {tf.__version__}\"))"
      ],
      "metadata": {
        "id": "oH4KZTIeZmNp"
      },
      "execution_count": 7,
      "outputs": []
    },
    {
      "cell_type": "markdown",
      "source": [
        "# Train our Model"
      ],
      "metadata": {
        "id": "F8Z8hkIjYlOl"
      }
    },
    {
      "cell_type": "markdown",
      "source": [
        "Directory of trainning data"
      ],
      "metadata": {
        "id": "nX43apOEXw1m"
      }
    },
    {
      "cell_type": "code",
      "source": [
        "#path to files here"
      ],
      "metadata": {
        "id": "4dl1Ejc7YXIL"
      },
      "execution_count": 4,
      "outputs": []
    },
    {
      "cell_type": "markdown",
      "source": [
        "Model Setup"
      ],
      "metadata": {
        "id": "rdr9s3GaeYzy"
      }
    },
    {
      "cell_type": "code",
      "source": [
        "#define LSTM model\n",
        "model = tf.keras.models.Sequential([\n",
        "    tf.keras.layers.LSTM(12, input_shape=(1, 1)),\n",
        "    tf.keras.layers.Dense(1)\n",
        "])\n",
        "#Compile model\n",
        "model.compile(optimizer='Adam', loss='mse')\n",
        "\n",
        "#random data\n",
        "x_train=tf.random.normal([10, 1, 1])\n",
        "y_train=tf.random.normal([10, 1])\n",
        "\n",
        "#Train model\n",
        "model.fit(x_train, y_train, epochs=100, batch_size=5)"
      ],
      "metadata": {
        "colab": {
          "base_uri": "https://localhost:8080/"
        },
        "id": "m5ITjPloYi4H",
        "outputId": "c2fd56a4-8e1b-49fc-c9bf-bae81cbfed1f"
      },
      "execution_count": 9,
      "outputs": [
        {
          "output_type": "stream",
          "name": "stdout",
          "text": [
            "Epoch 1/100\n",
            "2/2 [==============================] - 3s 12ms/step - loss: 1.0600\n",
            "Epoch 2/100\n",
            "2/2 [==============================] - 0s 7ms/step - loss: 1.0571\n",
            "Epoch 3/100\n",
            "2/2 [==============================] - 0s 8ms/step - loss: 1.0523\n",
            "Epoch 4/100\n",
            "2/2 [==============================] - 0s 6ms/step - loss: 1.0489\n",
            "Epoch 5/100\n",
            "2/2 [==============================] - 0s 5ms/step - loss: 1.0454\n",
            "Epoch 6/100\n",
            "2/2 [==============================] - 0s 7ms/step - loss: 1.0425\n",
            "Epoch 7/100\n",
            "2/2 [==============================] - 0s 6ms/step - loss: 1.0399\n",
            "Epoch 8/100\n",
            "2/2 [==============================] - 0s 5ms/step - loss: 1.0370\n",
            "Epoch 9/100\n",
            "2/2 [==============================] - 0s 8ms/step - loss: 1.0327\n",
            "Epoch 10/100\n",
            "2/2 [==============================] - 0s 9ms/step - loss: 1.0295\n",
            "Epoch 11/100\n",
            "2/2 [==============================] - 0s 6ms/step - loss: 1.0266\n",
            "Epoch 12/100\n",
            "2/2 [==============================] - 0s 5ms/step - loss: 1.0230\n",
            "Epoch 13/100\n",
            "2/2 [==============================] - 0s 6ms/step - loss: 1.0204\n",
            "Epoch 14/100\n",
            "2/2 [==============================] - 0s 6ms/step - loss: 1.0168\n",
            "Epoch 15/100\n",
            "2/2 [==============================] - 0s 9ms/step - loss: 1.0133\n",
            "Epoch 16/100\n",
            "2/2 [==============================] - 0s 6ms/step - loss: 1.0103\n",
            "Epoch 17/100\n",
            "2/2 [==============================] - 0s 5ms/step - loss: 1.0083\n",
            "Epoch 18/100\n",
            "2/2 [==============================] - 0s 6ms/step - loss: 1.0043\n",
            "Epoch 19/100\n",
            "2/2 [==============================] - 0s 6ms/step - loss: 1.0023\n",
            "Epoch 20/100\n",
            "2/2 [==============================] - 0s 6ms/step - loss: 0.9984\n",
            "Epoch 21/100\n",
            "2/2 [==============================] - 0s 6ms/step - loss: 0.9953\n",
            "Epoch 22/100\n",
            "2/2 [==============================] - 0s 6ms/step - loss: 0.9933\n",
            "Epoch 23/100\n",
            "2/2 [==============================] - 0s 6ms/step - loss: 0.9901\n",
            "Epoch 24/100\n",
            "2/2 [==============================] - 0s 6ms/step - loss: 0.9870\n",
            "Epoch 25/100\n",
            "2/2 [==============================] - 0s 6ms/step - loss: 0.9844\n",
            "Epoch 26/100\n",
            "2/2 [==============================] - 0s 8ms/step - loss: 0.9823\n",
            "Epoch 27/100\n",
            "2/2 [==============================] - 0s 5ms/step - loss: 0.9796\n",
            "Epoch 28/100\n",
            "2/2 [==============================] - 0s 8ms/step - loss: 0.9769\n",
            "Epoch 29/100\n",
            "2/2 [==============================] - 0s 9ms/step - loss: 0.9743\n",
            "Epoch 30/100\n",
            "2/2 [==============================] - 0s 6ms/step - loss: 0.9712\n",
            "Epoch 31/100\n",
            "2/2 [==============================] - 0s 7ms/step - loss: 0.9689\n",
            "Epoch 32/100\n",
            "2/2 [==============================] - 0s 6ms/step - loss: 0.9668\n",
            "Epoch 33/100\n",
            "2/2 [==============================] - 0s 6ms/step - loss: 0.9640\n",
            "Epoch 34/100\n",
            "2/2 [==============================] - 0s 6ms/step - loss: 0.9616\n",
            "Epoch 35/100\n",
            "2/2 [==============================] - 0s 8ms/step - loss: 0.9606\n",
            "Epoch 36/100\n",
            "2/2 [==============================] - 0s 6ms/step - loss: 0.9569\n",
            "Epoch 37/100\n",
            "2/2 [==============================] - 0s 6ms/step - loss: 0.9556\n",
            "Epoch 38/100\n",
            "2/2 [==============================] - 0s 9ms/step - loss: 0.9526\n",
            "Epoch 39/100\n",
            "2/2 [==============================] - 0s 6ms/step - loss: 0.9504\n",
            "Epoch 40/100\n",
            "2/2 [==============================] - 0s 6ms/step - loss: 0.9478\n",
            "Epoch 41/100\n",
            "2/2 [==============================] - 0s 7ms/step - loss: 0.9455\n",
            "Epoch 42/100\n",
            "2/2 [==============================] - 0s 8ms/step - loss: 0.9434\n",
            "Epoch 43/100\n",
            "2/2 [==============================] - 0s 7ms/step - loss: 0.9409\n",
            "Epoch 44/100\n",
            "2/2 [==============================] - 0s 6ms/step - loss: 0.9400\n",
            "Epoch 45/100\n",
            "2/2 [==============================] - 0s 6ms/step - loss: 0.9376\n",
            "Epoch 46/100\n",
            "2/2 [==============================] - 0s 8ms/step - loss: 0.9352\n",
            "Epoch 47/100\n",
            "2/2 [==============================] - 0s 10ms/step - loss: 0.9329\n",
            "Epoch 48/100\n",
            "2/2 [==============================] - 0s 6ms/step - loss: 0.9306\n",
            "Epoch 49/100\n",
            "2/2 [==============================] - 0s 6ms/step - loss: 0.9296\n",
            "Epoch 50/100\n",
            "2/2 [==============================] - 0s 9ms/step - loss: 0.9275\n",
            "Epoch 51/100\n",
            "2/2 [==============================] - 0s 5ms/step - loss: 0.9262\n",
            "Epoch 52/100\n",
            "2/2 [==============================] - 0s 6ms/step - loss: 0.9229\n",
            "Epoch 53/100\n",
            "2/2 [==============================] - 0s 6ms/step - loss: 0.9217\n",
            "Epoch 54/100\n",
            "2/2 [==============================] - 0s 6ms/step - loss: 0.9193\n",
            "Epoch 55/100\n",
            "2/2 [==============================] - 0s 5ms/step - loss: 0.9174\n",
            "Epoch 56/100\n",
            "2/2 [==============================] - 0s 6ms/step - loss: 0.9164\n",
            "Epoch 57/100\n",
            "2/2 [==============================] - 0s 5ms/step - loss: 0.9141\n",
            "Epoch 58/100\n",
            "2/2 [==============================] - 0s 6ms/step - loss: 0.9124\n",
            "Epoch 59/100\n",
            "2/2 [==============================] - 0s 5ms/step - loss: 0.9103\n",
            "Epoch 60/100\n",
            "2/2 [==============================] - 0s 5ms/step - loss: 0.9090\n",
            "Epoch 61/100\n",
            "2/2 [==============================] - 0s 6ms/step - loss: 0.9070\n",
            "Epoch 62/100\n",
            "2/2 [==============================] - 0s 7ms/step - loss: 0.9048\n",
            "Epoch 63/100\n",
            "2/2 [==============================] - 0s 7ms/step - loss: 0.9040\n",
            "Epoch 64/100\n",
            "2/2 [==============================] - 0s 5ms/step - loss: 0.9021\n",
            "Epoch 65/100\n",
            "2/2 [==============================] - 0s 6ms/step - loss: 0.9001\n",
            "Epoch 66/100\n",
            "2/2 [==============================] - 0s 5ms/step - loss: 0.8992\n",
            "Epoch 67/100\n",
            "2/2 [==============================] - 0s 5ms/step - loss: 0.8976\n",
            "Epoch 68/100\n",
            "2/2 [==============================] - 0s 5ms/step - loss: 0.8954\n",
            "Epoch 69/100\n",
            "2/2 [==============================] - 0s 5ms/step - loss: 0.8949\n",
            "Epoch 70/100\n",
            "2/2 [==============================] - 0s 5ms/step - loss: 0.8919\n",
            "Epoch 71/100\n",
            "2/2 [==============================] - 0s 6ms/step - loss: 0.8910\n",
            "Epoch 72/100\n",
            "2/2 [==============================] - 0s 5ms/step - loss: 0.8897\n",
            "Epoch 73/100\n",
            "2/2 [==============================] - 0s 6ms/step - loss: 0.8883\n",
            "Epoch 74/100\n",
            "2/2 [==============================] - 0s 5ms/step - loss: 0.8875\n",
            "Epoch 75/100\n",
            "2/2 [==============================] - 0s 6ms/step - loss: 0.8849\n",
            "Epoch 76/100\n",
            "2/2 [==============================] - 0s 6ms/step - loss: 0.8843\n",
            "Epoch 77/100\n",
            "2/2 [==============================] - 0s 5ms/step - loss: 0.8821\n",
            "Epoch 78/100\n",
            "2/2 [==============================] - 0s 5ms/step - loss: 0.8824\n",
            "Epoch 79/100\n",
            "2/2 [==============================] - 0s 5ms/step - loss: 0.8799\n",
            "Epoch 80/100\n",
            "2/2 [==============================] - 0s 5ms/step - loss: 0.8795\n",
            "Epoch 81/100\n",
            "2/2 [==============================] - 0s 5ms/step - loss: 0.8777\n",
            "Epoch 82/100\n",
            "2/2 [==============================] - 0s 6ms/step - loss: 0.8771\n",
            "Epoch 83/100\n",
            "2/2 [==============================] - 0s 5ms/step - loss: 0.8754\n",
            "Epoch 84/100\n",
            "2/2 [==============================] - 0s 7ms/step - loss: 0.8739\n",
            "Epoch 85/100\n",
            "2/2 [==============================] - 0s 7ms/step - loss: 0.8728\n",
            "Epoch 86/100\n",
            "2/2 [==============================] - 0s 7ms/step - loss: 0.8716\n",
            "Epoch 87/100\n",
            "2/2 [==============================] - 0s 6ms/step - loss: 0.8706\n",
            "Epoch 88/100\n",
            "2/2 [==============================] - 0s 6ms/step - loss: 0.8697\n",
            "Epoch 89/100\n",
            "2/2 [==============================] - 0s 6ms/step - loss: 0.8682\n",
            "Epoch 90/100\n",
            "2/2 [==============================] - 0s 5ms/step - loss: 0.8675\n",
            "Epoch 91/100\n",
            "2/2 [==============================] - 0s 6ms/step - loss: 0.8663\n",
            "Epoch 92/100\n",
            "2/2 [==============================] - 0s 5ms/step - loss: 0.8655\n",
            "Epoch 93/100\n",
            "2/2 [==============================] - 0s 6ms/step - loss: 0.8645\n",
            "Epoch 94/100\n",
            "2/2 [==============================] - 0s 6ms/step - loss: 0.8629\n",
            "Epoch 95/100\n",
            "2/2 [==============================] - 0s 6ms/step - loss: 0.8624\n",
            "Epoch 96/100\n",
            "2/2 [==============================] - 0s 5ms/step - loss: 0.8615\n",
            "Epoch 97/100\n",
            "2/2 [==============================] - 0s 5ms/step - loss: 0.8603\n",
            "Epoch 98/100\n",
            "2/2 [==============================] - 0s 5ms/step - loss: 0.8593\n",
            "Epoch 99/100\n",
            "2/2 [==============================] - 0s 6ms/step - loss: 0.8588\n",
            "Epoch 100/100\n",
            "2/2 [==============================] - 0s 5ms/step - loss: 0.8578\n"
          ]
        },
        {
          "output_type": "execute_result",
          "data": {
            "text/plain": [
              "<keras.src.callbacks.History at 0x7e94a8312260>"
            ]
          },
          "metadata": {},
          "execution_count": 9
        }
      ]
    }
  ]
}