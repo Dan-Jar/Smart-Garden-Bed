{
  "nbformat": 4,
  "nbformat_minor": 0,
  "metadata": {
    "colab": {
      "provenance": [],
      "include_colab_link": true
    },
    "kernelspec": {
      "name": "python3",
      "display_name": "Python 3"
    },
    "language_info": {
      "name": "python"
    }
  },
  "cells": [
    {
      "cell_type": "markdown",
      "metadata": {
        "id": "view-in-github",
        "colab_type": "text"
      },
      "source": [
        "<a href=\"https://colab.research.google.com/github/Dan-Jar/Smart-Garden-Bed/blob/main/Garden_Bed_LSTM.ipynb\" target=\"_parent\"><img src=\"https://colab.research.google.com/assets/colab-badge.svg\" alt=\"Open In Colab\"/></a>"
      ]
    },
    {
      "cell_type": "markdown",
      "source": [
        "# Recurrance Neural Network and Long Short Term Memory\n",
        "It can store long-term information and overcome the drawback of vanishing gradient.\n",
        "\n",
        "***Forget Gate***\n",
        "\n",
        "It keeps or forgets the information, then the sigmoid activation function(S shaped graph) is applied to the output which ranges from 0-1. If it is 0(forget) or 1(keep).\n",
        "\n",
        "***Input Gate***\n",
        "\n",
        "The input will be applied the sigmoid(keep or forget data) and tanh(subtract or add new information into the cell state) activation functions.\n",
        "\n",
        "***Output Gate***\n",
        "\n",
        "The final result will fill in the blanks based on information perceived."
      ],
      "metadata": {
        "id": "esIQfk2mkTgS"
      }
    },
    {
      "cell_type": "markdown",
      "source": [
        "## Get the libraries to set up our recurrance neural network\n"
      ],
      "metadata": {
        "id": "Gzbg6OMxTjvD"
      }
    },
    {
      "cell_type": "code",
      "source": [
        "# to create our model\n",
        "import tensorflow as tf\n",
        "# to load our data\n",
        "import pandas as pd\n",
        "#for checking python version\n",
        "import sys\n",
        "#path for files\n",
        "import pathlib"
      ],
      "metadata": {
        "id": "UhOOo6rgXpSN"
      },
      "execution_count": null,
      "outputs": []
    },
    {
      "cell_type": "markdown",
      "source": [
        "### This script requires TensorFlow 2 and Python 3.\n"
      ],
      "metadata": {
        "id": "yPlFPXWZZozc"
      }
    },
    {
      "cell_type": "code",
      "source": [
        "if sys.version_info.major < 3:\n",
        "    raise Exception((f\"The script is developed and tested for Python 3. \"\n",
        "                     f\"Current version: {sys.version_info.major}\"))\n",
        "\n",
        "if tf.__version__.split('.')[0] != '2':\n",
        "    raise Exception((f\"The script is developed and tested for tensorflow 2. \"\n",
        "                     f\"Current version: {tf.__version__}\"))"
      ],
      "metadata": {
        "id": "oH4KZTIeZmNp"
      },
      "execution_count": null,
      "outputs": []
    },
    {
      "cell_type": "markdown",
      "source": [
        "# Train our Model"
      ],
      "metadata": {
        "id": "F8Z8hkIjYlOl"
      }
    },
    {
      "cell_type": "markdown",
      "source": [
        "Directory of trainning data"
      ],
      "metadata": {
        "id": "nX43apOEXw1m"
      }
    },
    {
      "cell_type": "code",
      "source": [
        "#URL path of our csv\n",
        "url = 'https://raw.githubusercontent.com/Dan-Jar/Smart-Garden-Bed/main/Garden%20Data.csv'\n",
        "garden_data = pd.read_csv(url)\n",
        "print(garden_data)"
      ],
      "metadata": {
        "id": "4dl1Ejc7YXIL"
      },
      "execution_count": null,
      "outputs": []
    },
    {
      "cell_type": "markdown",
      "source": [
        "Model Setup"
      ],
      "metadata": {
        "id": "rdr9s3GaeYzy"
      }
    },
    {
      "cell_type": "code",
      "source": [
        "#define LSTM model\n",
        "model = tf.keras.models.Sequential([\n",
        "    tf.keras.layers.LSTM(12, input_shape=(1, 1)),\n",
        "    tf.keras.layers.Dense(1)\n",
        "])\n",
        "#Compile model\n",
        "model.compile(optimizer='Adam', loss='mse')\n",
        "\n",
        "#random data\n",
        "x_train=tf.random.normal([10, 1, 1])\n",
        "y_train=tf.random.normal([10, 1])\n",
        "\n",
        "#Train model\n",
        "model.fit(x_train, y_train, epochs=100, batch_size=5)"
      ],
      "metadata": {
        "id": "m5ITjPloYi4H"
      },
      "execution_count": null,
      "outputs": []
    },
    {
      "cell_type": "markdown",
      "source": [
        "Save Model"
      ],
      "metadata": {
        "id": "fLGr2Bs9SqRZ"
      }
    },
    {
      "cell_type": "code",
      "source": [
        "export_dir='model/chamomile'\n",
        "tf.saved_model.save(model, export_dir)\n",
        "\n"
      ],
      "metadata": {
        "id": "m4ZLJ6voStHF"
      },
      "execution_count": null,
      "outputs": []
    },
    {
      "cell_type": "code",
      "source": [
        "#Convert to TensorFlow Lite\n",
        "converter = tf.lite.TFLiteConverter.from_saved_model(export_dir)\n",
        "tflite_model = converter.convert()\n",
        "\n",
        "#write to disk a file that encapsulates the model\n",
        "tflite_model_file = pathlib.Path('chamomile.tflite')\n",
        "tflite_model_file.write_bytes(tflite_model)"
      ],
      "metadata": {
        "id": "N83eUfeJUVLm"
      },
      "execution_count": null,
      "outputs": []
    },
    {
      "cell_type": "markdown",
      "source": [
        "tflite file"
      ],
      "metadata": {
        "id": "fa0MptFyVVHF"
      }
    },
    {
      "cell_type": "code",
      "source": [
        "#pre-saved file\n",
        "interpreter = tf.lite.Interpreter(model_content='chamomile.tflite')\n",
        "\n",
        "#load file from disk\n",
        "#interpreter.tf.lite.interpreter(model_path='chamomile.tflite')"
      ],
      "metadata": {
        "id": "oa0NqHbSVabp"
      },
      "execution_count": null,
      "outputs": []
    },
    {
      "cell_type": "code",
      "source": [],
      "metadata": {
        "id": "5-3sd9TXVqWP"
      },
      "execution_count": null,
      "outputs": []
    }
  ]
}